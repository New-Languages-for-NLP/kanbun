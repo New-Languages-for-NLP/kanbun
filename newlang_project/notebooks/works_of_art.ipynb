{
 "cells": [
  {
   "cell_type": "markdown",
   "metadata": {},
   "source": [
    "# Tracking works cited in the _Dai Nihon Shi_\n",
    "We have a selection of chapters from the _Dai Nihon Shi_ that have been manually annotated with named entities, including people (`PER`), locations (`LOC`), and works of art (`WORK_OF_ART`). Using this selection, we want to identify some of the most frequently mentioned works of art (nearly always written works) and track their appearance across the entire _Dai Nihon Shi_.\n",
    "\n",
    "First, let's find all the works of art (tagged `WORK_OF_ART`) in our annotated data, which is stored in the CoNLL-2002 (`.conll`) format."
   ]
  },
  {
   "cell_type": "code",
   "execution_count": 15,
   "metadata": {},
   "outputs": [
    {
     "data": {
      "text/html": [
       "<span class=\"tex2jax_ignore\"><div class=\"entities\" style=\"line-height: 2.5; direction: ltr\">【清和】五女孟子內\n",
       "<mark class=\"entity\" style=\"background: #aa9cfc; padding: 0.45em 0.6em; margin: 0 0.25em; line-height: 1; border-radius: 0.35em;\">\n",
       "    親王\n",
       "    <span style=\"font-size: 0.8em; font-weight: bold; line-height: 1; border-radius: 0.35em; vertical-align: middle; margin-left: 0.5rem\">PERSON</span>\n",
       "</mark>\n",
       "，【○\n",
       "<mark class=\"entity\" style=\"background: #f0d0ff; padding: 0.45em 0.6em; margin: 0 0.25em; line-height: 1; border-radius: 0.35em;\">\n",
       "    日本紀略\n",
       "    <span style=\"font-size: 0.8em; font-weight: bold; line-height: 1; border-radius: 0.35em; vertical-align: middle; margin-left: 0.5rem\">WORK_OF_ART</span>\n",
       "</mark>\n",
       "作宜子，誤。】宮人\n",
       "<mark class=\"entity\" style=\"background: #aa9cfc; padding: 0.45em 0.6em; margin: 0 0.25em; line-height: 1; border-radius: 0.35em;\">\n",
       "    藤原氏\n",
       "    <span style=\"font-size: 0.8em; font-weight: bold; line-height: 1; border-radius: 0.35em; vertical-align: middle; margin-left: 0.5rem\">PERSON</span>\n",
       "</mark>\n",
       "所生也。貞觀十五年，與妹包子、敦子，並為內親王。元慶二年，賜參河播豆郡荒田一百町，為一身田。【\n",
       "<mark class=\"entity\" style=\"background: #f0d0ff; padding: 0.45em 0.6em; margin: 0 0.25em; line-height: 1; border-radius: 0.35em;\">\n",
       "    三代實錄\n",
       "    <span style=\"font-size: 0.8em; font-weight: bold; line-height: 1; border-radius: 0.35em; vertical-align: middle; margin-left: 0.5rem\">WORK_OF_ART</span>\n",
       "</mark>\n",
       "。】延喜元年六月，薨。【\n",
       "<mark class=\"entity\" style=\"background: #f0d0ff; padding: 0.45em 0.6em; margin: 0 0.25em; line-height: 1; border-radius: 0.35em;\">\n",
       "    日本起略\n",
       "    <span style=\"font-size: 0.8em; font-weight: bold; line-height: 1; border-radius: 0.35em; vertical-align: middle; margin-left: 0.5rem\">WORK_OF_ART</span>\n",
       "</mark>\n",
       "、\n",
       "<mark class=\"entity\" style=\"background: #f0d0ff; padding: 0.45em 0.6em; margin: 0 0.25em; line-height: 1; border-radius: 0.35em;\">\n",
       "    一代要記\n",
       "    <span style=\"font-size: 0.8em; font-weight: bold; line-height: 1; border-radius: 0.35em; vertical-align: middle; margin-left: 0.5rem\">WORK_OF_ART</span>\n",
       "</mark>\n",
       "。</div></span>"
      ],
      "text/plain": [
       "<IPython.core.display.HTML object>"
      ]
     },
     "metadata": {},
     "output_type": "display_data"
    }
   ],
   "source": [
    "from pathlib import Path\n",
    "\n",
    "import spacy\n",
    "\n",
    "# load all annotated data exported from INCEpTION; make a Doc out of each chapter\n",
    "docs = []\n",
    "nlp = spacy.blank(\"lzh\")\n",
    "for conll_file in Path(\"../assets/kanbun/3_inception_export/\").glob(\"*.conll\"):\n",
    "  with open(conll_file, \"r\") as f:\n",
    "    conll_doc = f.read().strip()\n",
    "    words = []\n",
    "    sent_starts = []\n",
    "    pos_tags = []\n",
    "    biluo_tags = []\n",
    "    for conll_sent in conll_doc.split(\"\\n\\n\"):\n",
    "        conll_sent = conll_sent.strip()\n",
    "        if not conll_sent:\n",
    "            continue\n",
    "        lines = [line.strip() for line in conll_sent.split(\"\\n\") if line.strip()]\n",
    "        cols = list(zip(*[line.split() for line in lines]))\n",
    "        length = len(cols[0])\n",
    "        words.extend(cols[0])\n",
    "        sent_starts.extend([True] + [False] * (length - 1))\n",
    "        biluo_tags.extend(spacy.training.iob_utils.iob_to_biluo(cols[-1]))\n",
    "        pos_tags.extend(cols[1] if len(cols) > 2 else [\"-\"] * length)\n",
    "    doc = spacy.tokens.Doc(\n",
    "      nlp.vocab,\n",
    "      words=words,\n",
    "      spaces=[False] * len(words),\n",
    "      user_data={\"title\": conll_file.stem},\n",
    "    )\n",
    "    for i, token in enumerate(doc):\n",
    "      token.tag_ = pos_tags[i]\n",
    "      token.is_sent_start = sent_starts[i]\n",
    "    entities = spacy.training.iob_utils.tags_to_entities(biluo_tags)\n",
    "    doc.ents = [spacy.tokens.Span(doc, start=s, end=e + 1, label=L) for L, s, e in entities]\n",
    "    docs.append(doc)\n",
    "\n",
    "# check some of the annotated entities in a doc\n",
    "spacy.displacy.render(docs[0][:100], style=\"ent\")"
   ]
  },
  {
   "cell_type": "markdown",
   "metadata": {},
   "source": [
    "Let's identify the 10 most frequently cited works of art from our annotated selection."
   ]
  },
  {
   "cell_type": "code",
   "execution_count": 29,
   "metadata": {},
   "outputs": [
    {
     "name": "stdout",
     "output_type": "stream",
     "text": [
      "一代要記: 567\n",
      "皇胤紹運錄: 470\n",
      "女院小傳: 360\n",
      "日本紀略: 303\n",
      "歷代皇紀: 232\n",
      "日本紀: 194\n",
      "榮華物語: 189\n",
      "增鏡: 135\n",
      "尊卑分脈: 132\n",
      "今鏡: 132\n"
     ]
    }
   ],
   "source": [
    "import collections\n",
    "\n",
    "# get all the tagged works of art; count how many times each occurs\n",
    "works_of_art = [ent for doc in docs for ent in doc.ents if ent.label_ == \"WORK_OF_ART\"]\n",
    "top_works = collections.Counter(ent.text for ent in works_of_art).most_common(10)\n",
    "\n",
    "print(\"\\n\".join([f\"{work}: {str(count)}\" for work, count in top_works]))"
   ]
  }
 ],
 "metadata": {
  "interpreter": {
   "hash": "399f58a1e2dd97b84b46c9a3caa54f8afa6f90330ebb1f6b22c94095f857003f"
  },
  "kernelspec": {
   "display_name": "Python 3.9.7 64-bit ('kanbun': pyenv)",
   "language": "python",
   "name": "python3"
  },
  "language_info": {
   "codemirror_mode": {
    "name": "ipython",
    "version": 3
   },
   "file_extension": ".py",
   "mimetype": "text/x-python",
   "name": "python",
   "nbconvert_exporter": "python",
   "pygments_lexer": "ipython3",
   "version": "3.9.7"
  },
  "orig_nbformat": 4
 },
 "nbformat": 4,
 "nbformat_minor": 2
}
